{
 "cells": [
  {
   "cell_type": "code",
   "execution_count": 1,
   "id": "893b1c96-53cb-423d-95ff-e3052ed867bd",
   "metadata": {},
   "outputs": [],
   "source": [
    "import cv2\n",
    "img =cv2.imread('data/glass.jpeg')"
   ]
  },
  {
   "cell_type": "code",
   "execution_count": 2,
   "id": "80775b93-aece-4dd1-ba78-8f0f8f076571",
   "metadata": {},
   "outputs": [
    {
     "data": {
      "text/plain": [
       "113"
      ]
     },
     "execution_count": 2,
     "metadata": {},
     "output_type": "execute_result"
    }
   ],
   "source": [
    "cv2.imshow(\"glass\", img)\n",
    "cv2.waitKey()"
   ]
  },
  {
   "cell_type": "code",
   "execution_count": 3,
   "id": "a24be532-6dcc-4385-9aa0-e5e8724bf863",
   "metadata": {},
   "outputs": [],
   "source": [
    "while True:\n",
    "    cv2.imshow(\"glass\", img)\n",
    "    if cv2.waitKey() == ord('q'):\n",
    "        break\n",
    "cv2.destroyAllWindows()\n",
    "    "
   ]
  },
  {
   "cell_type": "code",
   "execution_count": null,
   "id": "aac56443-c115-4c71-ac0c-0b7e92b95cea",
   "metadata": {},
   "outputs": [],
   "source": []
  }
 ],
 "metadata": {
  "kernelspec": {
   "display_name": "Python 3",
   "language": "python",
   "name": "python3"
  },
  "language_info": {
   "codemirror_mode": {
    "name": "ipython",
    "version": 3
   },
   "file_extension": ".py",
   "mimetype": "text/x-python",
   "name": "python",
   "nbconvert_exporter": "python",
   "pygments_lexer": "ipython3",
   "version": "3.7.11"
  }
 },
 "nbformat": 4,
 "nbformat_minor": 5
}
