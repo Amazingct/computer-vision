{
 "cells": [
  {
   "cell_type": "code",
   "execution_count": 2,
   "id": "9fa7d5d8",
   "metadata": {},
   "outputs": [],
   "source": [
    "import cv2 as cv\n",
    "import numpy as np\n",
    "import matplotlib.pyplot as plt\n",
    "%matplotlib inline"
   ]
  },
  {
   "cell_type": "code",
   "execution_count": 3,
   "id": "ec2e2d12",
   "metadata": {},
   "outputs": [],
   "source": [
    "font = cv.FONT_HERSHEY_COMPLEX\n",
    "board = np.zeros((500,500,3), dtype=np.int16)"
   ]
  },
  {
   "cell_type": "code",
   "execution_count": 5,
   "id": "e50daa26",
   "metadata": {},
   "outputs": [
    {
     "data": {
      "text/plain": [
       "<matplotlib.image.AxesImage at 0x1a30af67c08>"
      ]
     },
     "execution_count": 5,
     "metadata": {},
     "output_type": "execute_result"
    },
    {
     "data": {
      "image/png": "[encoded data removed]",
      "text/plain": [
       "<Figure size 432x288 with 1 Axes>"
      ]
     },
     "metadata": {
      "needs_background": "light"
     },
     "output_type": "display_data"
    }
   ],
   "source": [
    "plt.imshow(board)"
   ]
  },
  {
   "cell_type": "code",
   "execution_count": 62,
   "id": "bc97b1bf",
   "metadata": {},
   "outputs": [],
   "source": [
    "a = np.arange(512*512*3, dtype=np.int16).reshape(512, 512,3)"
   ]
  },
  {
   "cell_type": "code",
   "execution_count": 63,
   "id": "5d30db6e",
   "metadata": {},
   "outputs": [],
   "source": [
    "def redraw(tensor):\n",
    "    for ch in range(tensor.shape[-1]):\n",
    "        print(tensor[:,:,ch])\n",
    "        print(\"                  \")\n",
    "        print(\"------------------\")\n",
    "        print(\"                  \")\n",
    "\n"
   ]
  },
  {
   "cell_type": "code",
   "execution_count": 64,
   "id": "143c72d1",
   "metadata": {},
   "outputs": [
    {
     "data": {
      "text/plain": [
       "(512, 512, 3)"
      ]
     },
     "execution_count": 64,
     "metadata": {},
     "output_type": "execute_result"
    }
   ],
   "source": [
    "a.shape"
   ]
  },
  {
   "cell_type": "code",
   "execution_count": 65,
   "id": "0aae521e",
   "metadata": {},
   "outputs": [
    {
     "data": {
      "text/plain": [
       "array([[    1,     4,     7, ...,  1528,  1531,  1534],\n",
       "       [ 1537,  1540,  1543, ...,  3064,  3067,  3070],\n",
       "       [ 3073,  3076,  3079, ...,  4600,  4603,  4606],\n",
       "       ...,\n",
       "       [-4607, -4604, -4601, ..., -3080, -3077, -3074],\n",
       "       [-3071, -3068, -3065, ..., -1544, -1541, -1538],\n",
       "       [-1535, -1532, -1529, ...,    -8,    -5,    -2]], dtype=int16)"
      ]
     },
     "execution_count": 65,
     "metadata": {},
     "output_type": "execute_result"
    }
   ],
   "source": [
    "a[:,:,1]"
   ]
  },
  {
   "cell_type": "code",
   "execution_count": 66,
   "id": "a46c9576",
   "metadata": {},
   "outputs": [
    {
     "data": {
      "text/plain": [
       "array([[    0,     1,     2],\n",
       "       [ 1536,  1537,  1538],\n",
       "       [ 3072,  3073,  3074],\n",
       "       ...,\n",
       "       [-4608, -4607, -4606],\n",
       "       [-3072, -3071, -3070],\n",
       "       [-1536, -1535, -1534]], dtype=int16)"
      ]
     },
     "execution_count": 66,
     "metadata": {},
     "output_type": "execute_result"
    }
   ],
   "source": [
    "a[:,0,:]"
   ]
  },
  {
   "cell_type": "code",
   "execution_count": 67,
   "id": "35acfd45",
   "metadata": {},
   "outputs": [
    {
     "data": {
      "text/plain": [
       "array([[    3,     4,     5],\n",
       "       [ 1539,  1540,  1541],\n",
       "       [ 3075,  3076,  3077],\n",
       "       ...,\n",
       "       [-4605, -4604, -4603],\n",
       "       [-3069, -3068, -3067],\n",
       "       [-1533, -1532, -1531]], dtype=int16)"
      ]
     },
     "execution_count": 67,
     "metadata": {},
     "output_type": "execute_result"
    }
   ],
   "source": [
    "a[:,1,:]"
   ]
  },
  {
   "cell_type": "code",
   "execution_count": 68,
   "id": "f00c1737",
   "metadata": {},
   "outputs": [
    {
     "name": "stdout",
     "output_type": "stream",
     "text": [
      "[[    0     3     6 ...  1527  1530  1533]\n",
      " [ 1536  1539  1542 ...  3063  3066  3069]\n",
      " [ 3072  3075  3078 ...  4599  4602  4605]\n",
      " ...\n",
      " [-4608 -4605 -4602 ... -3081 -3078 -3075]\n",
      " [-3072 -3069 -3066 ... -1545 -1542 -1539]\n",
      " [-1536 -1533 -1530 ...    -9    -6    -3]]\n",
      "                  \n",
      "------------------\n",
      "                  \n",
      "[[    1     4     7 ...  1528  1531  1534]\n",
      " [ 1537  1540  1543 ...  3064  3067  3070]\n",
      " [ 3073  3076  3079 ...  4600  4603  4606]\n",
      " ...\n",
      " [-4607 -4604 -4601 ... -3080 -3077 -3074]\n",
      " [-3071 -3068 -3065 ... -1544 -1541 -1538]\n",
      " [-1535 -1532 -1529 ...    -8    -5    -2]]\n",
      "                  \n",
      "------------------\n",
      "                  \n",
      "[[    2     5     8 ...  1529  1532  1535]\n",
      " [ 1538  1541  1544 ...  3065  3068  3071]\n",
      " [ 3074  3077  3080 ...  4601  4604  4607]\n",
      " ...\n",
      " [-4606 -4603 -4600 ... -3079 -3076 -3073]\n",
      " [-3070 -3067 -3064 ... -1543 -1540 -1537]\n",
      " [-1534 -1531 -1528 ...    -7    -4    -1]]\n",
      "                  \n",
      "------------------\n",
      "                  \n"
     ]
    }
   ],
   "source": [
    "redraw(a)"
   ]
  },
  {
   "cell_type": "code",
   "execution_count": 73,
   "id": "9a25b699",
   "metadata": {},
   "outputs": [],
   "source": [
    "b = np.zeros((512,512,3), dtype=np.int16)"
   ]
  },
  {
   "cell_type": "code",
   "execution_count": 74,
   "id": "feedad5a",
   "metadata": {},
   "outputs": [
    {
     "data": {
      "text/plain": [
       "<matplotlib.image.AxesImage at 0x1a32e8f2808>"
      ]
     },
     "execution_count": 74,
     "metadata": {},
     "output_type": "execute_result"
    },
    {
     "data": {
      "image/png": "[encoded data removed]",
      "text/plain": [
       "<Figure size 432x288 with 1 Axes>"
      ]
     },
     "metadata": {
      "needs_background": "light"
     },
     "output_type": "display_data"
    }
   ],
   "source": [
    "plt.imshow(b)"
   ]
  },
  {
   "cell_type": "code",
   "execution_count": 77,
   "id": "614fda20",
   "metadata": {},
   "outputs": [],
   "source": [
    "font = cv.FONT_HERSHEY_COMPLEX\n",
    "c = cv.putText(b, text=\"HELLO\", org=(10,500), fontFace=font, fontScale=4, color=(255,255,90), thickness=3)"
   ]
  },
  {
   "cell_type": "code",
   "execution_count": 78,
   "id": "db0174c3",
   "metadata": {},
   "outputs": [
    {
     "data": {
      "text/plain": [
       "<matplotlib.image.AxesImage at 0x1a3316ac5c8>"
      ]
     },
     "execution_count": 78,
     "metadata": {},
     "output_type": "execute_result"
    },
    {
     "data": {
      "image/png": "[encoded data removed]",
      "text/plain": [
       "<Figure size 432x288 with 1 Axes>"
      ]
     },
     "metadata": {
      "needs_background": "light"
     },
     "output_type": "display_data"
    }
   ],
   "source": [
    "plt.imshow(c)"
   ]
  },
  {
   "cell_type": "code",
   "execution_count": null,
   "id": "85122922",
   "metadata": {},
   "outputs": [],
   "source": [
    "cv."
   ]
  }
 ],
 "metadata": {
  "kernelspec": {
   "display_name": "Python 3",
   "language": "python",
   "name": "python3"
  },
  "language_info": {
   "codemirror_mode": {
    "name": "ipython",
    "version": 3
   },
   "file_extension": ".py",
   "mimetype": "text/x-python",
   "name": "python",
   "nbconvert_exporter": "python",
   "pygments_lexer": "ipython3",
   "version": "3.7.11"
  }
 },
 "nbformat": 4,
 "nbformat_minor": 5
}
