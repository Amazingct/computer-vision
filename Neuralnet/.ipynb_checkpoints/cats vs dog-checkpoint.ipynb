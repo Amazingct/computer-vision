{
 "cells": [
  {
   "cell_type": "code",
   "execution_count": 1,
   "id": "886e7cb4",
   "metadata": {},
   "outputs": [],
   "source": [
    "\n",
    "# https://www.microsoft.com/en-us/download/confirmation.aspx?id=54765\n",
    "\n",
    "import numpy as np\n",
    "from tensorflow.keras.callbacks import TensorBoard\n",
    "from tensorflow.keras.models import Sequential\n",
    "from tensorflow.keras.layers import Dense, Dropout, Activation, Flatten, Conv2D, MaxPooling2D\n",
    "import cv2 as cv\n",
    "import os\n",
    "import pickle\n",
    "import time\n",
    "import random"
   ]
  },
  {
   "cell_type": "code",
   "execution_count": 2,
   "id": "c1ab8a19",
   "metadata": {},
   "outputs": [],
   "source": [
    "img_size = 70\n",
    "categories = [\"dog\", \"cat\"]\n",
    "data_dir = \"dog_cat_dataset\"\n",
    "training_data = []"
   ]
  },
  {
   "cell_type": "code",
   "execution_count": null,
   "id": "8c05dd97",
   "metadata": {},
   "outputs": [],
   "source": [
    "NAME = \"ROAD-SMART_{}\".format(int(time.time()))\n",
    "print(NAME)\n",
    "board = TensorBoard(log_dir='logs/{}'.format((NAME)))"
   ]
  },
  {
   "cell_type": "code",
   "execution_count": null,
   "id": "d5e60cd1",
   "metadata": {},
   "outputs": [],
   "source": [
    "\n",
    "def pass_training_data():\n",
    "    for category in categories:\n",
    "        path = os.path.join(data_dir, category)\n",
    "        class_num = categories.index(category)\n",
    "        for img in os.listdir(path):\n",
    "            try:\n",
    "                image_path = os.path.join(path, img)\n",
    "                picture = cv.imread(image_path, -1)\n",
    "                picture = cv.resize(picture, (img_size, img_size))\n",
    "                training_data.append([picture, class_num])\n",
    "            except Exception as e:\n",
    "                pass"
   ]
  },
  {
   "cell_type": "code",
   "execution_count": null,
   "id": "77763f32",
   "metadata": {},
   "outputs": [],
   "source": [
    "pass_training_data()\n",
    "random.shuffle(training_data)\n",
    "# validate training data content\n",
    "for sample in training_data[:10]:\n",
    "    print(\"labels: \", sample[1])\n",
    "\n",
    "x = []\n",
    "y = []\n",
    "\n",
    "for image, label in training_data:\n",
    "    x.append(image)\n",
    "    y.append(label)\n",
    "\n",
    "images = np.array(x)\n",
    "labels = np.array(y)\n",
    "\n",
    "print(images.shape)"
   ]
  },
  {
   "cell_type": "code",
   "execution_count": null,
   "id": "1d937e43",
   "metadata": {},
   "outputs": [],
   "source": [
    "# reshape and save input and output array\n",
    "# input images\n",
    "images = images.reshape(-1, img_size, img_size, 3)\n",
    "pickle_out = open(\"aix.pickle\", \"wb\")\n",
    "pickle.dump(images, pickle_out)\n",
    "pickle_out.close()\n",
    "# output images\n",
    "pickle_out = open(\"aiy.pickle\", \"wb\")\n",
    "pickle.dump(labels, pickle_out)\n",
    "pickle_out.close()"
   ]
  },
  {
   "cell_type": "code",
   "execution_count": null,
   "id": "ea51b638",
   "metadata": {},
   "outputs": [],
   "source": [
    "# read input and output array\n",
    "# input images\n",
    "pickle_in = open(\"aix.pickle\", \"rb\")\n",
    "x = np.asarray(pickle.load(pickle_in))\n",
    "pickle_in.close()\n",
    "# output images\n",
    "pickle_in = open(\"aiy.pickle\", \"rb\")\n",
    "y = np.asarray(pickle.load(pickle_in))\n",
    "pickle_in.close()\n",
    "x = x/255.0"
   ]
  },
  {
   "cell_type": "code",
   "execution_count": null,
   "id": "434f3012",
   "metadata": {},
   "outputs": [],
   "source": [
    "# Define Network (CNN)\n",
    "NeuralNet = Sequential()\n",
    "NeuralNet.add(Conv2D(256, (3, 3), input_shape = x.shape[1:]))\n",
    "NeuralNet.add(Activation(\"relu\"))\n",
    "NeuralNet.add(MaxPooling2D(pool_size=(2, 2)))\n",
    "\n",
    "\n",
    "NeuralNet.add(Conv2D(128, (3, 3)))\n",
    "NeuralNet.add(Activation(\"relu\"))\n",
    "NeuralNet.add(MaxPooling2D(pool_size=(2, 2)))\n",
    "\n",
    "\n",
    "NeuralNet.add(Conv2D(64, (3, 3)))\n",
    "NeuralNet.add(Activation(\"relu\"))\n",
    "NeuralNet.add(MaxPooling2D(pool_size=(2, 2)))\n",
    "\n",
    "NeuralNet.add(Flatten())\n",
    "NeuralNet.add(Dense(64))\n",
    "NeuralNet.add(Activation(\"relu\"))\n",
    "\n",
    "NeuralNet.add(Dense(4))\n",
    "NeuralNet.add(Activation(\"sigmoid\"))\n",
    "\n",
    "NeuralNet.compile(loss =\"sparse_categorical_crossentropy\", optimizer = \"adam\", metrics = ['accuracy'])\n",
    "NeuralNet.fit(x, y, epochs = 10, callbacks=[board])\n",
    "\n",
    "print(NAME)\n",
    "NeuralNet.save(\"cat_dog.h5\")"
   ]
  },
  {
   "cell_type": "code",
   "execution_count": null,
   "id": "e9d68bb7",
   "metadata": {},
   "outputs": [],
   "source": [
    "def prepare(f):\n",
    "    pic = cv.resize(f, (img_size, img_size))\n",
    "    pic = pic.reshape(-1, img_size, img_size,3)\n",
    "    return pic/255.0"
   ]
  },
  {
   "cell_type": "code",
   "execution_count": null,
   "id": "59b4fcbd",
   "metadata": {},
   "outputs": [],
   "source": [
    "predictions = model.predict([frame])\n",
    "direction = categories[np.argmax(predictions)]"
   ]
  },
  {
   "cell_type": "code",
   "execution_count": null,
   "id": "d87cc015",
   "metadata": {},
   "outputs": [],
   "source": []
  },
  {
   "cell_type": "code",
   "execution_count": null,
   "id": "f8584b80",
   "metadata": {},
   "outputs": [],
   "source": []
  }
 ],
 "metadata": {
  "kernelspec": {
   "display_name": "Python 3",
   "language": "python",
   "name": "python3"
  },
  "language_info": {
   "codemirror_mode": {
    "name": "ipython",
    "version": 3
   },
   "file_extension": ".py",
   "mimetype": "text/x-python",
   "name": "python",
   "nbconvert_exporter": "python",
   "pygments_lexer": "ipython3",
   "version": "3.7.11"
  }
 },
 "nbformat": 4,
 "nbformat_minor": 5
}
