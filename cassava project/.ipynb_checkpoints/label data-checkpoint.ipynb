{
 "cells": [
  {
   "cell_type": "code",
   "execution_count": 17,
   "id": "a515ec61",
   "metadata": {},
   "outputs": [],
   "source": [
    "import os\n",
    "import cv2, uuid, os, time"
   ]
  },
  {
   "cell_type": "code",
   "execution_count": 18,
   "id": "14d248df",
   "metadata": {},
   "outputs": [
    {
     "data": {
      "text/plain": [
       "128"
      ]
     },
     "execution_count": 18,
     "metadata": {},
     "output_type": "execute_result"
    }
   ],
   "source": [
    "LABELIMG_PATH = 'DataCapture'\n",
    "# Clone Tzutalin Label Image Script\n",
    "os.system('mkdir {}'.format(LABELIMG_PATH))\n",
    "os.system(\"git clone https://github.com/tzutalin/labelImg {}\".format(LABELIMG_PATH))"
   ]
  },
  {
   "cell_type": "code",
   "execution_count": 19,
   "id": "a62d5622",
   "metadata": {},
   "outputs": [
    {
     "data": {
      "text/plain": [
       "0"
      ]
     },
     "execution_count": 19,
     "metadata": {},
     "output_type": "execute_result"
    }
   ],
   "source": [
    "'''\n",
    "pyrcc5 takes a Qt Resource File (. qrc) and converts it into a \n",
    "Python module which can be imported into a PyQt5 application.\n",
    "All files loaded by Qt that are prefixed with a colon will be \n",
    "loaded from the resources rather than the file system.\n",
    " '''\n",
    "\n",
    "os.system('cd {} && pyrcc5 -o libs/resources.py resources.qrc'. format(LABELIMG_PATH))\n",
    "\n",
    "# Now run the label Image Script\n",
    "os.system('cd {} && python labelImg.py'.format(LABELIMG_PATH))"
   ]
  },
  {
   "cell_type": "code",
   "execution_count": null,
   "id": "554bbeac",
   "metadata": {},
   "outputs": [],
   "source": []
  }
 ],
 "metadata": {
  "kernelspec": {
   "display_name": "Python 3",
   "language": "python",
   "name": "python3"
  },
  "language_info": {
   "codemirror_mode": {
    "name": "ipython",
    "version": 3
   },
   "file_extension": ".py",
   "mimetype": "text/x-python",
   "name": "python",
   "nbconvert_exporter": "python",
   "pygments_lexer": "ipython3",
   "version": "3.7.11"
  }
 },
 "nbformat": 4,
 "nbformat_minor": 5
}
