{
 "cells": [
  {
   "cell_type": "code",
   "execution_count": null,
   "id": "7e942b4f",
   "metadata": {},
   "outputs": [],
   "source": [
    "import cv2, uuid, os, time\n",
    "labels = ['thumbsup', 'thumbsdown', 'thankyou', 'livelong']\n",
    "Objects = 'HandGestures'\n",
    "number_imgs = 5\n",
    "home = 'A:\\projects\\FalconVision'  # Project Directory\n",
    "os.chdir(home)\n",
    "IMAGES_PATH = os.path.join(os.curdir, 'Datasets', Objects, 'CollectedImages')\n",
    "LABELIMG_PATH = os.path.join(home, 'DataCapture','labelImages')\n",
    "if not os.path.exists(IMAGES_PATH):\n",
    "    os.system('mkdir {}'.format(IMAGES_PATH))\n",
    "\n",
    "for label in labels:\n",
    "    path = os.path.join(IMAGES_PATH, label)\n",
    "    if not os.path.exists(path):\n",
    "       print(os.system('mkdir {}'.format(path)))\n",
    "\n",
    "\n",
    "# Capture Images\n",
    "def capture():\n",
    "    for label in labels:\n",
    "        cap = cv2.VideoCapture(0)\n",
    "        print('Collecting images for {}'.format(label))\n",
    "        time.sleep(5)\n",
    "        for imgnum in range(number_imgs):\n",
    "            print('Collecting image {}'.format(imgnum))\n",
    "            ret, frame = cap.read()\n",
    "            imgname = os.path.join(IMAGES_PATH, label, label + '.' + '{}.jpg'.format(str(uuid.uuid1())))\n",
    "            cv2.imwrite(imgname, frame)\n",
    "            cv2.imshow('frame', frame)\n",
    "            time.sleep(2)\n",
    "\n",
    "            if cv2.waitKey(1) & 0xFF == ord('q'):\n",
    "                break\n",
    "    cap.release()\n",
    "    cv2.destroyAllWindows()\n",
    "\n",
    "\n",
    "# Clone Tzutalin Label Image Script\n",
    "if not os.path.exists(LABELIMG_PATH):\n",
    "    os.system('mkdir {}'.format(LABELIMG_PATH))\n",
    "    os.system(\"git clone https://github.com/tzutalin/labelImg {}\".format(LABELIMG_PATH))\n",
    "\n",
    "'''\n",
    "pyrcc5 takes a Qt Resource File (. qrc) and converts it into a \n",
    "Python module which can be imported into a PyQt5 application.\n",
    "All files loaded by Qt that are prefixed with a colon will be \n",
    "loaded from the resources rather than the file system.\n",
    " '''\n",
    "\n",
    "os.system('cd {} && pyrcc5 -o libs/resources.py resources.qrc'. format(LABELIMG_PATH))\n",
    "\n",
    "# Capture\n",
    "capture()\n",
    "# Now run the label Image Script\n",
    "os.system('cd {} && python labelImg.py'.format(LABELIMG_PATH))\n"
   ]
  },
  {
   "cell_type": "code",
   "execution_count": 1,
   "id": "743c2b85",
   "metadata": {},
   "outputs": [],
   "source": [
    "import os"
   ]
  },
  {
   "cell_type": "code",
   "execution_count": 2,
   "id": "89df0e0b",
   "metadata": {},
   "outputs": [
    {
     "data": {
      "text/plain": [
       "0"
      ]
     },
     "execution_count": 2,
     "metadata": {},
     "output_type": "execute_result"
    }
   ],
   "source": [
    "os.system(\"mkdir dataset\")"
   ]
  },
  {
   "cell_type": "code",
   "execution_count": 3,
   "id": "5e76a311",
   "metadata": {},
   "outputs": [
    {
     "data": {
      "text/plain": [
       "0"
      ]
     },
     "execution_count": 3,
     "metadata": {},
     "output_type": "execute_result"
    }
   ],
   "source": [
    "from os import system\n",
    "system(\"mkdir defected_cassavas\")"
   ]
  },
  {
   "cell_type": "code",
   "execution_count": 4,
   "id": "1ef7e990",
   "metadata": {},
   "outputs": [
    {
     "data": {
      "text/plain": [
       "1"
      ]
     },
     "execution_count": 4,
     "metadata": {},
     "output_type": "execute_result"
    }
   ],
   "source": [
    "system(\"rm dataset\")"
   ]
  },
  {
   "cell_type": "code",
   "execution_count": null,
   "id": "142f35c1",
   "metadata": {},
   "outputs": [],
   "source": [
    "uuid."
   ]
  },
  {
   "cell_type": "code",
   "execution_count": 9,
   "id": "8155daf2",
   "metadata": {},
   "outputs": [
    {
     "name": "stdout",
     "output_type": "stream",
     "text": [
      "i love jesus, and God\n"
     ]
    }
   ],
   "source": [
    "d = \"i love {}, {}\"\n",
    "print(d.format(\"jesus\", \"and God\"))"
   ]
  },
  {
   "cell_type": "code",
   "execution_count": 24,
   "id": "a1c90a6d",
   "metadata": {},
   "outputs": [
    {
     "data": {
      "text/plain": [
       "0"
      ]
     },
     "execution_count": 24,
     "metadata": {},
     "output_type": "execute_result"
    }
   ],
   "source": [
    "###############\n",
    "\n",
    "import cv2, uuid, os, time\n",
    "labels = [\"face\", \"hand\"]\n",
    "Objects = 'faces'\n",
    "number_imgs = 10\n",
    "home = 'A:\\projects\\computer-vision\\cassava project'  # Project Directory\n",
    "\n",
    "os.system(\"cd {}\".format(home))\n"
   ]
  },
  {
   "cell_type": "code",
   "execution_count": 16,
   "id": "ec1ebcb3",
   "metadata": {},
   "outputs": [],
   "source": [
    "IMAGES_PATH = os.path.join(os.curdir, 'Datasets', Objects, 'CollectedImages')\n"
   ]
  },
  {
   "cell_type": "code",
   "execution_count": 15,
   "id": "108b5fdd",
   "metadata": {},
   "outputs": [
    {
     "data": {
      "text/plain": [
       "'.'"
      ]
     },
     "execution_count": 15,
     "metadata": {},
     "output_type": "execute_result"
    }
   ],
   "source": [
    "'A:\\projects\\computer-vision\\cassava project\\Dataset\\faces\\collectedImages"
   ]
  },
  {
   "cell_type": "code",
   "execution_count": 17,
   "id": "2b5299ae",
   "metadata": {},
   "outputs": [
    {
     "name": "stdout",
     "output_type": "stream",
     "text": [
      ".\\Datasets\\faces\\CollectedImages\n"
     ]
    }
   ],
   "source": [
    "print(IMAGES_PATH)"
   ]
  },
  {
   "cell_type": "code",
   "execution_count": 18,
   "id": "7e190d36",
   "metadata": {},
   "outputs": [
    {
     "data": {
      "text/plain": [
       "str"
      ]
     },
     "execution_count": 18,
     "metadata": {},
     "output_type": "execute_result"
    }
   ],
   "source": [
    "type(IMAGES_PATH)"
   ]
  },
  {
   "cell_type": "code",
   "execution_count": 19,
   "id": "39ba8c5e",
   "metadata": {},
   "outputs": [],
   "source": [
    "LABELIMG_PATH = os.path.join(home, 'DataCapture','labelImages')\n"
   ]
  },
  {
   "cell_type": "code",
   "execution_count": 20,
   "id": "912edad4",
   "metadata": {},
   "outputs": [
    {
     "name": "stdout",
     "output_type": "stream",
     "text": [
      "A:\\projects\\computer-vision\\cassava project\\DataCapture\\labelImages\n"
     ]
    }
   ],
   "source": [
    "print(LABELIMG_PATH)"
   ]
  },
  {
   "cell_type": "code",
   "execution_count": 21,
   "id": "edd75f69",
   "metadata": {},
   "outputs": [],
   "source": [
    "if not os.path.exists(IMAGES_PATH):\n",
    "    os.system('mkdir {}'.format(IMAGES_PATH))"
   ]
  },
  {
   "cell_type": "code",
   "execution_count": 22,
   "id": "472b12a5",
   "metadata": {},
   "outputs": [
    {
     "data": {
      "text/plain": [
       "True"
      ]
     },
     "execution_count": 22,
     "metadata": {},
     "output_type": "execute_result"
    }
   ],
   "source": []
  },
  {
   "cell_type": "code",
   "execution_count": 25,
   "id": "0cfd3003",
   "metadata": {},
   "outputs": [
    {
     "name": "stdout",
     "output_type": "stream",
     "text": [
      "0\n"
     ]
    }
   ],
   "source": [
    "for label in labels:\n",
    "    path = os.path.join(IMAGES_PATH, label)\n",
    "    if not os.path.exists(path):\n",
    "       print(os.system('mkdir {}'.format(path)))"
   ]
  },
  {
   "cell_type": "code",
   "execution_count": 30,
   "id": "8bc657bf",
   "metadata": {},
   "outputs": [],
   "source": [
    "# Capture Images\n",
    "def capture():\n",
    "    for label in labels:\n",
    "        cap = cv2.VideoCapture(0)\n",
    "        print('Collecting images for {}'.format(label))\n",
    "        time.sleep(10)\n",
    "        for imgnum in range(number_imgs):\n",
    "            print('Collecting image {}'.format(imgnum))\n",
    "            ret, frame = cap.read()\n",
    "            imgname = os.path.join(IMAGES_PATH, label, label + '.' + '{}.jpg'.format(str(uuid.uuid1())))\n",
    "            cv2.imwrite(imgname, frame)\n",
    "            cv2.imshow('frame', frame)\n",
    "            time.sleep(2)\n",
    "\n",
    "            if cv2.waitKey(1) & 0xFF == ord('q'):\n",
    "                break\n",
    "    cap.release()\n",
    "    cv2.destroyAllWindows()\n"
   ]
  },
  {
   "cell_type": "code",
   "execution_count": 31,
   "id": "18149664",
   "metadata": {},
   "outputs": [
    {
     "name": "stdout",
     "output_type": "stream",
     "text": [
      "Collecting images for face\n",
      "Collecting image 0\n",
      "Collecting image 1\n",
      "Collecting image 2\n",
      "Collecting image 3\n",
      "Collecting image 4\n",
      "Collecting image 5\n",
      "Collecting image 6\n",
      "Collecting image 7\n",
      "Collecting image 8\n",
      "Collecting image 9\n",
      "Collecting images for hand\n",
      "Collecting image 0\n",
      "Collecting image 1\n",
      "Collecting image 2\n",
      "Collecting image 3\n",
      "Collecting image 4\n",
      "Collecting image 5\n",
      "Collecting image 6\n",
      "Collecting image 7\n",
      "Collecting image 8\n",
      "Collecting image 9\n"
     ]
    }
   ],
   "source": [
    "capture()"
   ]
  },
  {
   "cell_type": "code",
   "execution_count": null,
   "id": "e90d0b90",
   "metadata": {},
   "outputs": [],
   "source": []
  }
 ],
 "metadata": {
  "kernelspec": {
   "display_name": "Python 3",
   "language": "python",
   "name": "python3"
  },
  "language_info": {
   "codemirror_mode": {
    "name": "ipython",
    "version": 3
   },
   "file_extension": ".py",
   "mimetype": "text/x-python",
   "name": "python",
   "nbconvert_exporter": "python",
   "pygments_lexer": "ipython3",
   "version": "3.7.11"
  }
 },
 "nbformat": 4,
 "nbformat_minor": 5
}
