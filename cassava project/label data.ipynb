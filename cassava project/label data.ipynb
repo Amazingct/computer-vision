{
 "cells": [
  {
   "cell_type": "code",
   "execution_count": 2,
   "id": "a515ec61",
   "metadata": {},
   "outputs": [],
   "source": [
    "import os\n",
    "!pip install sip\n",
    "!pip install pyqt5"
   ]
  },
  {
   "cell_type": "code",
   "execution_count": 5,
   "id": "14d248df",
   "metadata": {},
   "outputs": [
    {
     "data": {
      "text/plain": [
       "128"
      ]
     },
     "execution_count": 5,
     "metadata": {},
     "output_type": "execute_result"
    }
   ],
   "source": [
    "LABELIMG_PATH = 'label_code'\n",
    "\n",
    "# Clone Tzutalin Label Image Script\n",
    "os.system('mkdir {}'.format(LABELIMG_PATH))\n",
    "\n",
    "os.system(\"git clone https://github.com/tzutalin/labelImg {}\".format(LABELIMG_PATH))"
   ]
  },
  {
   "cell_type": "code",
   "execution_count": null,
   "id": "a62d5622",
   "metadata": {},
   "outputs": [],
   "source": [
    "'''\n",
    "pyrcc5 takes a Qt Resource File (. qrc) and converts it into a \n",
    "Python module which can be imported into a PyQt5 application.\n",
    "All files loaded by Qt that are prefixed with a colon will be \n",
    "loaded from the resources rather than the file system.\n",
    " '''\n",
    "\n",
    "os.system('cd {} && pyrcc5 -o libs/resources.py resources.qrc'. format(LABELIMG_PATH))\n",
    "\n",
    "# Now run the label Image Script\n",
    "os.system('cd {} && python labelImg.py'.format(LABELIMG_PATH))"
   ]
  },
  {
   "cell_type": "code",
   "execution_count": 7,
   "id": "554bbeac",
   "metadata": {},
   "outputs": [
    {
     "name": "stdout",
     "output_type": "stream",
     "text": [
      "Collecting sip\n",
      "  Downloading sip-6.4.0-cp36-abi3-win_amd64.whl (538 kB)\n",
      "Requirement already satisfied: packaging in a:\\anaconda\\envs\\computer-vision\\lib\\site-packages (from sip) (21.2)\n",
      "Requirement already satisfied: setuptools in a:\\anaconda\\envs\\computer-vision\\lib\\site-packages (from sip) (58.0.4)\n",
      "Collecting toml\n",
      "  Using cached toml-0.10.2-py2.py3-none-any.whl (16 kB)\n",
      "Requirement already satisfied: pyparsing<3,>=2.0.2 in a:\\anaconda\\envs\\computer-vision\\lib\\site-packages (from packaging->sip) (2.4.7)\n",
      "Installing collected packages: toml, sip\n",
      "Successfully installed sip-6.4.0 toml-0.10.2\n"
     ]
    }
   ],
   "source": []
  },
  {
   "cell_type": "code",
   "execution_count": 9,
   "id": "b6971d7c",
   "metadata": {},
   "outputs": [
    {
     "name": "stdout",
     "output_type": "stream",
     "text": [
      "Collecting pyqt5\n",
      "  Downloading PyQt5-5.15.6-cp36-abi3-win_amd64.whl (6.7 MB)\n",
      "Collecting PyQt5-Qt5>=5.15.2\n",
      "  Using cached PyQt5_Qt5-5.15.2-py3-none-win_amd64.whl (50.1 MB)\n",
      "Collecting PyQt5-sip<13,>=12.8\n",
      "  Using cached PyQt5_sip-12.9.0-cp39-cp39-win_amd64.whl (63 kB)\n",
      "Installing collected packages: PyQt5-sip, PyQt5-Qt5, pyqt5\n",
      "Successfully installed PyQt5-Qt5-5.15.2 PyQt5-sip-12.9.0 pyqt5-5.15.6\n"
     ]
    }
   ],
   "source": []
  },
  {
   "cell_type": "code",
   "execution_count": null,
   "id": "2de7a391",
   "metadata": {},
   "outputs": [],
   "source": []
  }
 ],
 "metadata": {
  "kernelspec": {
   "display_name": "Python 3 (ipykernel)",
   "language": "python",
   "name": "python3"
  },
  "language_info": {
   "codemirror_mode": {
    "name": "ipython",
    "version": 3
   },
   "file_extension": ".py",
   "mimetype": "text/x-python",
   "name": "python",
   "nbconvert_exporter": "python",
   "pygments_lexer": "ipython3",
   "version": "3.9.7"
  }
 },
 "nbformat": 4,
 "nbformat_minor": 5
}
